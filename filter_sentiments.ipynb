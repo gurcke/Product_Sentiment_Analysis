{
 "cells": [
  {
   "cell_type": "code",
   "execution_count": 1,
   "metadata": {},
   "outputs": [],
   "source": [
    "#%run ./methods.ipynb"
   ]
  },
  {
   "cell_type": "code",
   "execution_count": 2,
   "metadata": {},
   "outputs": [],
   "source": [
    "#df = pd.read_pickle('./data/fitbitflexwirelessactivitysleepwristbandblack.pkl')"
   ]
  },
  {
   "cell_type": "code",
   "execution_count": 3,
   "metadata": {},
   "outputs": [
    {
     "name": "stdout",
     "output_type": "stream",
     "text": [
      "Loaded model from disk\n"
     ]
    }
   ],
   "source": [
    "# load json and create model\n",
    "json_file = open('data/model.json', 'r')\n",
    "loaded_model_json = json_file.read()\n",
    "json_file.close()\n",
    "loaded_model = model_from_json(loaded_model_json)\n",
    "# load weights into new model\n",
    "loaded_model.load_weights(\"data/model.h5\")\n",
    "print(\"Loaded model from disk\")"
   ]
  },
  {
   "cell_type": "code",
   "execution_count": 4,
   "metadata": {},
   "outputs": [],
   "source": [
    "# loading\n",
    "with open('data/tokenizer.pickle', 'rb') as handle:\n",
    "    tokenizer = pickle.load(handle)"
   ]
  },
  {
   "cell_type": "code",
   "execution_count": 5,
   "metadata": {},
   "outputs": [],
   "source": [
    "review_noun_phrases_scores = []\n",
    "for review in df.final_phrases:\n",
    "    review_noun_phrases_scores.append(\n",
    "        loaded_model.predict(\n",
    "            pad_sequences(\n",
    "                tokenizer.texts_to_sequences(review),\n",
    "                maxlen=128,\n",
    "                padding='post')))"
   ]
  },
  {
   "cell_type": "code",
   "execution_count": 6,
   "metadata": {},
   "outputs": [],
   "source": [
    "df['final_sent_scores']=review_noun_phrases_scores"
   ]
  },
  {
   "cell_type": "code",
   "execution_count": 7,
   "metadata": {},
   "outputs": [],
   "source": [
    "final_phrases_with_sent = []\n",
    "final_scores_with_sent = []\n",
    "final_sent = []\n",
    "final_topics_with_sent = []\n",
    "for i,phrases in enumerate(df.final_phrases):\n",
    "    tmp_final_phrases_with_sent = []\n",
    "    tmp_final_scores_with_sent = []\n",
    "    tmp_final_sent = []\n",
    "    tmp_final_topics_with_sent = []\n",
    "    for j,phrase in enumerate(phrases):\n",
    "        if(df.iloc[i].final_sent_scores[j][0]>0.75 or df.iloc[i].final_sent_scores[j][1]>0.75):\n",
    "            tmp_final_phrases_with_sent.append(phrase)\n",
    "            tmp_final_scores_with_sent.append(df.iloc[i].final_scores[j])\n",
    "            tmp_final_sent.append(df.iloc[i].final_sent_scores[j])\n",
    "            tmp_final_topics_with_sent.append(df.iloc[i].final_topics[j])\n",
    "    final_phrases_with_sent.append(tmp_final_phrases_with_sent)\n",
    "    final_scores_with_sent.append(tmp_final_scores_with_sent)\n",
    "    final_sent.append(tmp_final_sent)\n",
    "    final_topics_with_sent.append(tmp_final_topics_with_sent)"
   ]
  },
  {
   "cell_type": "code",
   "execution_count": 8,
   "metadata": {},
   "outputs": [],
   "source": [
    "df['final_phrases_with_sent']=final_phrases_with_sent\n",
    "df['final_scores_with_sent']=final_scores_with_sent\n",
    "df['final_sent_scores2']=final_sent\n",
    "df['topics']=final_topics_with_sent"
   ]
  },
  {
   "cell_type": "code",
   "execution_count": 9,
   "metadata": {},
   "outputs": [],
   "source": [
    "#df.to_pickle('./data/fitbitflexwirelessactivitysleepwristbandblack.pkl')"
   ]
  },
  {
   "cell_type": "code",
   "execution_count": null,
   "metadata": {},
   "outputs": [],
   "source": [
    "df.to_pickle(filename[:-5]+'.pkl')"
   ]
  },
  {
   "cell_type": "code",
   "execution_count": null,
   "metadata": {},
   "outputs": [],
   "source": []
  }
 ],
 "metadata": {
  "kernelspec": {
   "display_name": "Python [conda env:textmining]",
   "language": "python",
   "name": "conda-env-textmining-py"
  },
  "language_info": {
   "codemirror_mode": {
    "name": "ipython",
    "version": 3
   },
   "file_extension": ".py",
   "mimetype": "text/x-python",
   "name": "python",
   "nbconvert_exporter": "python",
   "pygments_lexer": "ipython3",
   "version": "3.5.6"
  },
  "varInspector": {
   "cols": {
    "lenName": 16,
    "lenType": 16,
    "lenVar": 40
   },
   "kernels_config": {
    "python": {
     "delete_cmd_postfix": "",
     "delete_cmd_prefix": "del ",
     "library": "var_list.py",
     "varRefreshCmd": "print(var_dic_list())"
    },
    "r": {
     "delete_cmd_postfix": ") ",
     "delete_cmd_prefix": "rm(",
     "library": "var_list.r",
     "varRefreshCmd": "cat(var_dic_list()) "
    }
   },
   "types_to_exclude": [
    "module",
    "function",
    "builtin_function_or_method",
    "instance",
    "_Feature"
   ],
   "window_display": false
  }
 },
 "nbformat": 4,
 "nbformat_minor": 2
}
