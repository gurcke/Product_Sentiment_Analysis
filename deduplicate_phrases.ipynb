{
 "cells": [
  {
   "cell_type": "code",
   "execution_count": 1,
   "metadata": {
    "scrolled": true
   },
   "outputs": [],
   "source": [
    "#%run ./methods.ipynb"
   ]
  },
  {
   "cell_type": "code",
   "execution_count": 2,
   "metadata": {
    "scrolled": true
   },
   "outputs": [],
   "source": [
    "#df = pd.read_pickle('./data/fitbitflexwirelessactivitysleepwristbandblack.pkl')"
   ]
  },
  {
   "cell_type": "code",
   "execution_count": 3,
   "metadata": {},
   "outputs": [],
   "source": [
    "#with open('./data/fitbitflexwirelessactivitysleepwristbandblack_topics.pkl', 'rb') as f:\n",
    "#    sorted_topics = pickle.load(f)"
   ]
  },
  {
   "cell_type": "code",
   "execution_count": null,
   "metadata": {},
   "outputs": [],
   "source": [
    "with open(topics_filename, 'rb') as f:\n",
    "    sorted_topics = pickle.load(f)"
   ]
  },
  {
   "cell_type": "code",
   "execution_count": 4,
   "metadata": {
    "scrolled": true
   },
   "outputs": [],
   "source": [
    "final_phrases = []\n",
    "final_scores = []\n",
    "final_topics = []\n",
    "for i,noun_phrases in enumerate(df.topic_phrases):\n",
    "    tmp_final_phrases = []\n",
    "    tmp_final_scores = []\n",
    "    tmp_final_topics = []\n",
    "    for j,noun_phrase1 in enumerate(noun_phrases):\n",
    "        if df.iloc[i].topic_entities[j] in sorted_topics and noun_phrase1 not in tmp_final_phrases:\n",
    "            for k, noun_phrase2 in enumerate(noun_phrases):\n",
    "                if df.iloc[i].topic_entities[k] in sorted_topics:\n",
    "                    #print(([noun_phrase1,df.iloc[i].topic_entities_scores[j],df.iloc[i].topic_entities[j]],[noun_phrase2,df.iloc[i].topic_entities_scores[k],df.iloc[i].topic_entities[k]]))\n",
    "                    #print(contains([noun_phrase1,df.iloc[i].topic_entities_scores[j],df.iloc[i].topic_entities[j]],[noun_phrase2,df.iloc[i].topic_entities_scores[k],df.iloc[i].topic_entities[k]]))\n",
    "                    for phrase in contains([noun_phrase1,df.iloc[i].topic_entities_scores[j],df.iloc[i].topic_entities[j]],[noun_phrase2,df.iloc[i].topic_entities_scores[k],df.iloc[i].topic_entities[k]]):\n",
    "                        if phrase[0] not in tmp_final_phrases and phrase[0]:\n",
    "                            tmp_final_phrases.append(phrase[0])\n",
    "                            tmp_final_scores.append(phrase[1])\n",
    "                            tmp_final_topics.append(phrase[2])\n",
    "    final_phrases.append(tmp_final_phrases)\n",
    "    final_scores.append(tmp_final_scores)\n",
    "    final_topics.append(tmp_final_topics)"
   ]
  },
  {
   "cell_type": "code",
   "execution_count": 5,
   "metadata": {
    "scrolled": true
   },
   "outputs": [],
   "source": [
    "df['final_phrases'] = final_phrases\n",
    "df['final_scores'] = final_scores\n",
    "df['final_topics'] = final_topics"
   ]
  },
  {
   "cell_type": "code",
   "execution_count": 6,
   "metadata": {
    "scrolled": true
   },
   "outputs": [],
   "source": [
    "#df.to_pickle('./data/fitbitflexwirelessactivitysleepwristbandblack.pkl')"
   ]
  }
 ],
 "metadata": {
  "kernelspec": {
   "display_name": "Python [conda env:textmining]",
   "language": "python",
   "name": "conda-env-textmining-py"
  },
  "language_info": {
   "codemirror_mode": {
    "name": "ipython",
    "version": 3
   },
   "file_extension": ".py",
   "mimetype": "text/x-python",
   "name": "python",
   "nbconvert_exporter": "python",
   "pygments_lexer": "ipython3",
   "version": "3.5.6"
  },
  "varInspector": {
   "cols": {
    "lenName": 16,
    "lenType": 16,
    "lenVar": 40
   },
   "kernels_config": {
    "python": {
     "delete_cmd_postfix": "",
     "delete_cmd_prefix": "del ",
     "library": "var_list.py",
     "varRefreshCmd": "print(var_dic_list())"
    },
    "r": {
     "delete_cmd_postfix": ") ",
     "delete_cmd_prefix": "rm(",
     "library": "var_list.r",
     "varRefreshCmd": "cat(var_dic_list()) "
    }
   },
   "types_to_exclude": [
    "module",
    "function",
    "builtin_function_or_method",
    "instance",
    "_Feature"
   ],
   "window_display": false
  }
 },
 "nbformat": 4,
 "nbformat_minor": 2
}
