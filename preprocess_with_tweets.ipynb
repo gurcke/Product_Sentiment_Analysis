{
 "cells": [
  {
   "cell_type": "code",
   "execution_count": 1,
   "metadata": {},
   "outputs": [],
   "source": [
    "%run ./methods.ipynb"
   ]
  },
  {
   "cell_type": "code",
   "execution_count": 21,
   "metadata": {},
   "outputs": [],
   "source": [
    "filename = './data/sonymdr7506professionallargediaphragmheadphone.json'\n",
    "df2 = pd.read_csv('./data/tweetsmdr7506predicted.csv', sep=';')\n",
    "df2 = df2[df2.prediction==True]"
   ]
  },
  {
   "cell_type": "code",
   "execution_count": 31,
   "metadata": {},
   "outputs": [],
   "source": [
    "d = {\n",
    "    'article': 'Sony MDR7506 Professional Large Diaphragm Headphone',\n",
    "    'price': 79.99,\n",
    "    'review_body': df2.tweet,\n",
    "    'review_date': '2019-02-14',\n",
    "    'review_helpful_votes': 0,\n",
    "    'review_rating': 0,\n",
    "    'review_source': 'twitter',\n",
    "    'review_title': ''\n",
    "}"
   ]
  },
  {
   "cell_type": "code",
   "execution_count": 33,
   "metadata": {},
   "outputs": [],
   "source": [
    "df3 = pd.DataFrame(data=d)"
   ]
  },
  {
   "cell_type": "code",
   "execution_count": 35,
   "metadata": {},
   "outputs": [],
   "source": [
    "with open(filename) as data_file:\n",
    "    data = json.load(data_file)\n",
    "df = pd.concat([pd.DataFrame(x) for x in data])\n",
    "df4 = pd.concat([df,df3])"
   ]
  },
  {
   "cell_type": "code",
   "execution_count": 36,
   "metadata": {},
   "outputs": [
    {
     "name": "stdout",
     "output_type": "stream",
     "text": [
      "3936\n",
      "305\n",
      "4241\n"
     ]
    }
   ],
   "source": [
    "print(len(df))\n",
    "print(len(df3))\n",
    "print(len(df4))"
   ]
  },
  {
   "cell_type": "code",
   "execution_count": 39,
   "metadata": {},
   "outputs": [],
   "source": [
    "reviews = df4[\"review_title\"] + '. ' + df4[\"review_body\"].map(str)"
   ]
  },
  {
   "cell_type": "code",
   "execution_count": 40,
   "metadata": {},
   "outputs": [],
   "source": [
    "df4[\"preprocessed\"] = [\n",
    "    preprocess(\n",
    "        review,\n",
    "        links=True,\n",
    "        html_tags=True,\n",
    "        accented_chars=True,\n",
    "        expand_contractions=True,\n",
    "        lowercase=True,\n",
    "        remove_newlines=True,\n",
    "        remove_extra_whitespace=True) for review in reviews\n",
    "]"
   ]
  },
  {
   "cell_type": "code",
   "execution_count": 42,
   "metadata": {},
   "outputs": [],
   "source": [
    "df4.to_pickle('./data/sonymdr7506professionallargediaphragmheadphone_tweets.pkl')"
   ]
  },
  {
   "cell_type": "code",
   "execution_count": null,
   "metadata": {},
   "outputs": [],
   "source": []
  }
 ],
 "metadata": {
  "kernelspec": {
   "display_name": "Python [conda env:textmining]",
   "language": "python",
   "name": "conda-env-textmining-py"
  },
  "language_info": {
   "codemirror_mode": {
    "name": "ipython",
    "version": 3
   },
   "file_extension": ".py",
   "mimetype": "text/x-python",
   "name": "python",
   "nbconvert_exporter": "python",
   "pygments_lexer": "ipython3",
   "version": "3.5.6"
  },
  "varInspector": {
   "cols": {
    "lenName": 16,
    "lenType": 16,
    "lenVar": 40
   },
   "kernels_config": {
    "python": {
     "delete_cmd_postfix": "",
     "delete_cmd_prefix": "del ",
     "library": "var_list.py",
     "varRefreshCmd": "print(var_dic_list())"
    },
    "r": {
     "delete_cmd_postfix": ") ",
     "delete_cmd_prefix": "rm(",
     "library": "var_list.r",
     "varRefreshCmd": "cat(var_dic_list()) "
    }
   },
   "types_to_exclude": [
    "module",
    "function",
    "builtin_function_or_method",
    "instance",
    "_Feature"
   ],
   "window_display": false
  }
 },
 "nbformat": 4,
 "nbformat_minor": 2
}
