{
 "cells": [
  {
   "cell_type": "code",
   "execution_count": null,
   "metadata": {},
   "outputs": [],
   "source": [
    "# add and remove stopwords\n",
    "# add and remove stopwords\n",
    "stopwords = ['iphone', 'fitbit', 'alta', 'fit bit', 'hr', 'sony', 'mdr', 'mdr7506', 'product', 'device', 'thing', 'love','daughter','son','husband','wife','mother','father','star','pair','thing','product','mom','dad']\n",
    "no_stopwords = ['no', 'not']\n",
    "stopword_list = nltk.corpus.stopwords.words('english')\n",
    "for stopword in stopwords:\n",
    "    stopword_list.append(stopword)\n",
    "for no_stopword in no_stopwords:\n",
    "    stopword_list.remove(no_stopword)\n",
    "\n",
    "tokens = [\n",
    "    preprocess(\n",
    "        review,\n",
    "        tokenize=True,\n",
    "        isolate_special_characters=True,\n",
    "        remove_special_characters=True,\n",
    "        remove_extra_whitespace=True,\n",
    "        remove_stopwords=True,\n",
    "        remove_numbers=True,\n",
    "        lemmatize=True\n",
    ") for review in df.preprocessed\n",
    "]\n",
    "dictionary = corpora.Dictionary(tokens)\n",
    "raw_corpus = [dictionary.doc2bow(t) for t in tokens]\n",
    "tfidf = models.TfidfModel(raw_corpus) # step 1 -- initialize a model\n",
    "corpus_tfidf = tfidf[raw_corpus]\n",
    "d = {}\n",
    "for doc in corpus_tfidf:\n",
    "    for id, value in doc:\n",
    "        word = dictionary.get(id)\n",
    "        d[word] = value"
   ]
  },
  {
   "cell_type": "code",
   "execution_count": null,
   "metadata": {},
   "outputs": [],
   "source": []
  }
 ],
 "metadata": {
  "kernelspec": {
   "display_name": "Python [conda env:textmining]",
   "language": "python",
   "name": "conda-env-textmining-py"
  },
  "language_info": {
   "codemirror_mode": {
    "name": "ipython",
    "version": 3
   },
   "file_extension": ".py",
   "mimetype": "text/x-python",
   "name": "python",
   "nbconvert_exporter": "python",
   "pygments_lexer": "ipython3",
   "version": "3.5.6"
  },
  "varInspector": {
   "cols": {
    "lenName": 16,
    "lenType": 16,
    "lenVar": 40
   },
   "kernels_config": {
    "python": {
     "delete_cmd_postfix": "",
     "delete_cmd_prefix": "del ",
     "library": "var_list.py",
     "varRefreshCmd": "print(var_dic_list())"
    },
    "r": {
     "delete_cmd_postfix": ") ",
     "delete_cmd_prefix": "rm(",
     "library": "var_list.r",
     "varRefreshCmd": "cat(var_dic_list()) "
    }
   },
   "types_to_exclude": [
    "module",
    "function",
    "builtin_function_or_method",
    "instance",
    "_Feature"
   ],
   "window_display": false
  }
 },
 "nbformat": 4,
 "nbformat_minor": 2
}
